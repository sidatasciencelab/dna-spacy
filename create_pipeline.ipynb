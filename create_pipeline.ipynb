{
 "cells": [
  {
   "cell_type": "code",
   "execution_count": 2,
   "id": "56faacd2-0cab-4ba4-a423-45f59caebde0",
   "metadata": {},
   "outputs": [
    {
     "name": "stderr",
     "output_type": "stream",
     "text": [
      "C:\\Users\\wma22\\anaconda3\\envs\\gender4\\lib\\site-packages\\tqdm\\auto.py:22: TqdmWarning: IProgress not found. Please update jupyter and ipywidgets. See https://ipywidgets.readthedocs.io/en/stable/user_install.html\n",
      "  from .autonotebook import tqdm as notebook_tqdm\n"
     ]
    }
   ],
   "source": [
    "import pandas as pd\n",
    "import spacy"
   ]
  },
  {
   "cell_type": "code",
   "execution_count": 3,
   "id": "69849e49-92f9-451d-8185-e7fad372070f",
   "metadata": {},
   "outputs": [],
   "source": [
    "df = pd.read_html(\"https://teaching.healthtech.dtu.dk/22110/index.php/Codon_list\")"
   ]
  },
  {
   "cell_type": "code",
   "execution_count": 5,
   "id": "987cf9e1-1a04-4eec-bf4f-5fdfa653e8d9",
   "metadata": {},
   "outputs": [],
   "source": [
    "df = df[0]"
   ]
  },
  {
   "cell_type": "code",
   "execution_count": 6,
   "id": "2d6a2b24-be8f-4ecf-a44b-b00c5271c102",
   "metadata": {},
   "outputs": [
    {
     "data": {
      "text/html": [
       "<div>\n",
       "<style scoped>\n",
       "    .dataframe tbody tr th:only-of-type {\n",
       "        vertical-align: middle;\n",
       "    }\n",
       "\n",
       "    .dataframe tbody tr th {\n",
       "        vertical-align: top;\n",
       "    }\n",
       "\n",
       "    .dataframe thead th {\n",
       "        text-align: right;\n",
       "    }\n",
       "</style>\n",
       "<table border=\"1\" class=\"dataframe\">\n",
       "  <thead>\n",
       "    <tr style=\"text-align: right;\">\n",
       "      <th></th>\n",
       "      <th>Amino Acid</th>\n",
       "      <th>SLC</th>\n",
       "      <th>DNA codons</th>\n",
       "    </tr>\n",
       "  </thead>\n",
       "  <tbody>\n",
       "    <tr>\n",
       "      <th>0</th>\n",
       "      <td>Isoleucine</td>\n",
       "      <td>I</td>\n",
       "      <td>ATT, ATC, ATA</td>\n",
       "    </tr>\n",
       "    <tr>\n",
       "      <th>1</th>\n",
       "      <td>Leucine</td>\n",
       "      <td>L</td>\n",
       "      <td>CTT, CTC, CTA, CTG, TTA, TTG</td>\n",
       "    </tr>\n",
       "    <tr>\n",
       "      <th>2</th>\n",
       "      <td>Valine</td>\n",
       "      <td>V</td>\n",
       "      <td>GTT, GTC, GTA, GTG</td>\n",
       "    </tr>\n",
       "    <tr>\n",
       "      <th>3</th>\n",
       "      <td>Phenylalanine</td>\n",
       "      <td>F</td>\n",
       "      <td>TTT, TTC</td>\n",
       "    </tr>\n",
       "    <tr>\n",
       "      <th>4</th>\n",
       "      <td>Methionine</td>\n",
       "      <td>M</td>\n",
       "      <td>ATG</td>\n",
       "    </tr>\n",
       "    <tr>\n",
       "      <th>5</th>\n",
       "      <td>Cysteine</td>\n",
       "      <td>C</td>\n",
       "      <td>TGT, TGC</td>\n",
       "    </tr>\n",
       "    <tr>\n",
       "      <th>6</th>\n",
       "      <td>Alanine</td>\n",
       "      <td>A</td>\n",
       "      <td>GCT, GCC, GCA, GCG</td>\n",
       "    </tr>\n",
       "    <tr>\n",
       "      <th>7</th>\n",
       "      <td>Glycine</td>\n",
       "      <td>G</td>\n",
       "      <td>GGT, GGC, GGA, GGG</td>\n",
       "    </tr>\n",
       "    <tr>\n",
       "      <th>8</th>\n",
       "      <td>Proline</td>\n",
       "      <td>P</td>\n",
       "      <td>CCT, CCC, CCA, CCG</td>\n",
       "    </tr>\n",
       "    <tr>\n",
       "      <th>9</th>\n",
       "      <td>Threonine</td>\n",
       "      <td>T</td>\n",
       "      <td>ACT, ACC, ACA, ACG</td>\n",
       "    </tr>\n",
       "    <tr>\n",
       "      <th>10</th>\n",
       "      <td>Serine</td>\n",
       "      <td>S</td>\n",
       "      <td>TCT, TCC, TCA, TCG, AGT, AGC</td>\n",
       "    </tr>\n",
       "    <tr>\n",
       "      <th>11</th>\n",
       "      <td>Tyrosine</td>\n",
       "      <td>Y</td>\n",
       "      <td>TAT, TAC</td>\n",
       "    </tr>\n",
       "    <tr>\n",
       "      <th>12</th>\n",
       "      <td>Tryptophan</td>\n",
       "      <td>W</td>\n",
       "      <td>TGG</td>\n",
       "    </tr>\n",
       "    <tr>\n",
       "      <th>13</th>\n",
       "      <td>Glutamine</td>\n",
       "      <td>Q</td>\n",
       "      <td>CAA, CAG</td>\n",
       "    </tr>\n",
       "    <tr>\n",
       "      <th>14</th>\n",
       "      <td>Asparagine</td>\n",
       "      <td>N</td>\n",
       "      <td>AAT, AAC</td>\n",
       "    </tr>\n",
       "    <tr>\n",
       "      <th>15</th>\n",
       "      <td>Histidine</td>\n",
       "      <td>H</td>\n",
       "      <td>CAT, CAC</td>\n",
       "    </tr>\n",
       "    <tr>\n",
       "      <th>16</th>\n",
       "      <td>Glutamic acid</td>\n",
       "      <td>E</td>\n",
       "      <td>GAA, GAG</td>\n",
       "    </tr>\n",
       "    <tr>\n",
       "      <th>17</th>\n",
       "      <td>Aspartic acid</td>\n",
       "      <td>D</td>\n",
       "      <td>GAT, GAC</td>\n",
       "    </tr>\n",
       "    <tr>\n",
       "      <th>18</th>\n",
       "      <td>Lysine</td>\n",
       "      <td>K</td>\n",
       "      <td>AAA, AAG</td>\n",
       "    </tr>\n",
       "    <tr>\n",
       "      <th>19</th>\n",
       "      <td>Arginine</td>\n",
       "      <td>R</td>\n",
       "      <td>CGT, CGC, CGA, CGG, AGA, AGG</td>\n",
       "    </tr>\n",
       "    <tr>\n",
       "      <th>20</th>\n",
       "      <td>Stop codons</td>\n",
       "      <td>Stop</td>\n",
       "      <td>TAA, TAG, TGA</td>\n",
       "    </tr>\n",
       "  </tbody>\n",
       "</table>\n",
       "</div>"
      ],
      "text/plain": [
       "       Amino Acid   SLC                    DNA codons\n",
       "0      Isoleucine     I                 ATT, ATC, ATA\n",
       "1         Leucine     L  CTT, CTC, CTA, CTG, TTA, TTG\n",
       "2          Valine     V            GTT, GTC, GTA, GTG\n",
       "3   Phenylalanine     F                      TTT, TTC\n",
       "4      Methionine     M                           ATG\n",
       "5        Cysteine     C                      TGT, TGC\n",
       "6         Alanine     A            GCT, GCC, GCA, GCG\n",
       "7         Glycine     G            GGT, GGC, GGA, GGG\n",
       "8         Proline     P            CCT, CCC, CCA, CCG\n",
       "9       Threonine     T            ACT, ACC, ACA, ACG\n",
       "10         Serine     S  TCT, TCC, TCA, TCG, AGT, AGC\n",
       "11       Tyrosine     Y                      TAT, TAC\n",
       "12     Tryptophan     W                           TGG\n",
       "13      Glutamine     Q                      CAA, CAG\n",
       "14     Asparagine     N                      AAT, AAC\n",
       "15      Histidine     H                      CAT, CAC\n",
       "16  Glutamic acid     E                      GAA, GAG\n",
       "17  Aspartic acid     D                      GAT, GAC\n",
       "18         Lysine     K                      AAA, AAG\n",
       "19       Arginine     R  CGT, CGC, CGA, CGG, AGA, AGG\n",
       "20    Stop codons  Stop                 TAA, TAG, TGA"
      ]
     },
     "execution_count": 6,
     "metadata": {},
     "output_type": "execute_result"
    }
   ],
   "source": []
  },
  {
   "cell_type": "code",
   "execution_count": 12,
   "id": "e4b04515-6fab-4a55-b4c0-3c84461ace58",
   "metadata": {},
   "outputs": [
    {
     "data": {
      "text/plain": [
       "[{'label': 'Isoleucine',\n",
       "  'pattern': [{'ORTH': 'A'}, {'ORTH': 'T'}, {'ORTH': 'T'}]},\n",
       " {'label': 'Isoleucine',\n",
       "  'pattern': [{'ORTH': 'A'}, {'ORTH': 'T'}, {'ORTH': 'C'}]},\n",
       " {'label': 'Isoleucine',\n",
       "  'pattern': [{'ORTH': 'A'}, {'ORTH': 'T'}, {'ORTH': 'A'}]},\n",
       " {'label': 'Leucine',\n",
       "  'pattern': [{'ORTH': 'C'}, {'ORTH': 'T'}, {'ORTH': 'T'}]},\n",
       " {'label': 'Leucine',\n",
       "  'pattern': [{'ORTH': 'C'}, {'ORTH': 'T'}, {'ORTH': 'C'}]}]"
      ]
     },
     "execution_count": 12,
     "metadata": {},
     "output_type": "execute_result"
    }
   ],
   "source": [
    "patterns = []\n",
    "for idx, row in df.iterrows():\n",
    "    label = row[\"Amino Acid\"]\n",
    "    for codon in row[\"DNA codons\"].split(\",\"):\n",
    "        codon = codon.strip()\n",
    "        patterns.append({\"label\": label, \"pattern\": [{\"ORTH\": c} for c in codon]})\n",
    "patterns[:5]"
   ]
  },
  {
   "cell_type": "code",
   "execution_count": 13,
   "id": "ae56e59d-21fe-49c1-9b8a-b501746db349",
   "metadata": {},
   "outputs": [],
   "source": [
    "nlp = spacy.load(\"dna\")\n",
    "ruler = nlp.add_pipe(\"entity_ruler\")\n",
    "ruler.add_patterns(patterns)"
   ]
  },
  {
   "cell_type": "code",
   "execution_count": 17,
   "id": "e101b44d-1177-43cc-b003-a9351604424a",
   "metadata": {},
   "outputs": [],
   "source": [
    "sample_dna = \"A T T ACCC\"\n",
    "doc = nlp(sample_dna)"
   ]
  },
  {
   "cell_type": "code",
   "execution_count": 18,
   "id": "5923b763-c41f-4a1a-a75d-0650a5c12cd6",
   "metadata": {},
   "outputs": [
    {
     "name": "stdout",
     "output_type": "stream",
     "text": [
      "A T T Isoleucine\n"
     ]
    }
   ],
   "source": [
    "for ent in doc.ents:\n",
    "    print(ent.text, ent.label_)"
   ]
  },
  {
   "cell_type": "code",
   "execution_count": null,
   "id": "ecfafb49-b27c-447a-b881-f1c72c23c0cb",
   "metadata": {},
   "outputs": [],
   "source": []
  }
 ],
 "metadata": {
  "kernelspec": {
   "display_name": "Python 3 (ipykernel)",
   "language": "python",
   "name": "python3"
  },
  "language_info": {
   "codemirror_mode": {
    "name": "ipython",
    "version": 3
   },
   "file_extension": ".py",
   "mimetype": "text/x-python",
   "name": "python",
   "nbconvert_exporter": "python",
   "pygments_lexer": "ipython3",
   "version": "3.9.16"
  }
 },
 "nbformat": 4,
 "nbformat_minor": 5
}
