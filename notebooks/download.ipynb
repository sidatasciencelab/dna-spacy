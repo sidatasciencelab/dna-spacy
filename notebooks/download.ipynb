{
 "cells": [
  {
   "cell_type": "code",
   "execution_count": 1,
   "id": "6dad207e-7f91-425f-96d8-37b2fb249f1b",
   "metadata": {},
   "outputs": [],
   "source": [
    "import gdown"
   ]
  },
  {
   "cell_type": "code",
   "execution_count": 2,
   "id": "f48777a0-2233-4d21-9073-9e63c871f0ce",
   "metadata": {},
   "outputs": [
    {
     "data": {
      "text/plain": [
       "['C:\\\\Users\\\\wma22\\\\OneDrive\\\\Documents\\\\GitHub\\\\dna-spacy\\\\euk_data\\\\Acropora_hyacinthus_unclassified_reads_illumina_top_1.fasta.gz',\n",
       " 'C:\\\\Users\\\\wma22\\\\OneDrive\\\\Documents\\\\GitHub\\\\dna-spacy\\\\euk_data\\\\Acropora_millepora_unclassified_reads_illumina_top_1.fasta.gz',\n",
       " 'C:\\\\Users\\\\wma22\\\\OneDrive\\\\Documents\\\\GitHub\\\\dna-spacy\\\\euk_data\\\\Acropora_millepora_unclassified_reads_pacbio_top.fasta.gz',\n",
       " 'C:\\\\Users\\\\wma22\\\\OneDrive\\\\Documents\\\\GitHub\\\\dna-spacy\\\\euk_data\\\\Aurelia_aurita_unclassified_reads_pacbio_top.fasta.gz',\n",
       " 'C:\\\\Users\\\\wma22\\\\OneDrive\\\\Documents\\\\GitHub\\\\dna-spacy\\\\euk_data\\\\Conus_ventricosus_unclassified_reads_illumina_top_1.fasta.gz']"
      ]
     },
     "execution_count": 2,
     "metadata": {},
     "output_type": "execute_result"
    }
   ],
   "source": [
    "url = \"https://drive.google.com/drive/folders/15uNXeRBIhVvZJIhL4yTw4IsStMhUaaxl\"\n",
    "url = \"https://drive.google.com/drive/folders/1P7LKV8ooTZn0ltLpHZifieAyGF5Q6oIL\"\n",
    "gdown.download_folder(url, quiet=True, use_cookies=False)"
   ]
  },
  {
   "cell_type": "code",
   "execution_count": null,
   "id": "fa10dfe0-8b39-4f9b-a4ea-668f0946c578",
   "metadata": {},
   "outputs": [],
   "source": []
  }
 ],
 "metadata": {
  "kernelspec": {
   "display_name": "Python 3 (ipykernel)",
   "language": "python",
   "name": "python3"
  },
  "language_info": {
   "codemirror_mode": {
    "name": "ipython",
    "version": 3
   },
   "file_extension": ".py",
   "mimetype": "text/x-python",
   "name": "python",
   "nbconvert_exporter": "python",
   "pygments_lexer": "ipython3",
   "version": "3.9.16"
  }
 },
 "nbformat": 4,
 "nbformat_minor": 5
}
