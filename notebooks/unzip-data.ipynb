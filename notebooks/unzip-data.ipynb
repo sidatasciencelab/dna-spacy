{
 "cells": [
  {
   "cell_type": "code",
   "execution_count": 3,
   "id": "05924b3d-15a6-430b-9e5d-030f2c119b43",
   "metadata": {},
   "outputs": [],
   "source": [
    "import glob\n",
    "import gzip\n",
    "import tarfile"
   ]
  },
  {
   "cell_type": "code",
   "execution_count": 2,
   "id": "ceeb1ea0-014e-4b81-84ae-26afd87ad1e3",
   "metadata": {},
   "outputs": [
    {
     "data": {
      "text/plain": [
       "4"
      ]
     },
     "execution_count": 2,
     "metadata": {},
     "output_type": "execute_result"
    }
   ],
   "source": [
    "files = \"../euk_data/*.gz\"\n",
    "files = glob.glob(files)\n",
    "len(files)"
   ]
  },
  {
   "cell_type": "code",
   "execution_count": 15,
   "id": "32e5c29f-dc2a-4f64-8100-c52ba1cfc16b",
   "metadata": {},
   "outputs": [
    {
     "name": "stdout",
     "output_type": "stream",
     "text": [
      "../euk_data\\Acropora_millepora_unclassified_reads_illumina_top_1.fasta.gz\n",
      "Acropora_millepora_unclassified_reads_illumina_top_1\n",
      "../euk_data\\Acropora_millepora_unclassified_reads_pacbio_top.fasta.gz\n",
      "Acropora_millepora_unclassified_reads_pacbio_top\n",
      "../euk_data\\Aurelia_aurita_unclassified_reads_pacbio_top.fasta.gz\n",
      "Aurelia_aurita_unclassified_reads_pacbio_top\n",
      "../euk_data\\Conus_ventricosus_unclassified_reads_illumina_top_1.fasta.gz\n",
      "Conus_ventricosus_unclassified_reads_illumina_top_1\n"
     ]
    }
   ],
   "source": [
    "for file in files:\n",
    "    print(file)\n",
    "    new_file = file.split(\"\\\\\")[1].split(\".\")[0]\n",
    "    print(new_file)\n",
    "    with gzip.open(file, \"rb\") as f:\n",
    "        data = f.read().decode()\n",
    "    with open(\"../euk_data/\"+new_file+\".txt\", \"w\") as f:\n",
    "        f.write(data)"
   ]
  },
  {
   "cell_type": "code",
   "execution_count": null,
   "id": "aa779a03-3723-48f4-971d-04950e82cfaf",
   "metadata": {},
   "outputs": [],
   "source": []
  }
 ],
 "metadata": {
  "kernelspec": {
   "display_name": "Python 3 (ipykernel)",
   "language": "python",
   "name": "python3"
  },
  "language_info": {
   "codemirror_mode": {
    "name": "ipython",
    "version": 3
   },
   "file_extension": ".py",
   "mimetype": "text/x-python",
   "name": "python",
   "nbconvert_exporter": "python",
   "pygments_lexer": "ipython3",
   "version": "3.9.16"
  }
 },
 "nbformat": 4,
 "nbformat_minor": 5
}
