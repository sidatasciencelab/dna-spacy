{
 "cells": [
  {
   "cell_type": "code",
   "execution_count": 1,
   "id": "5ca1515a-75c2-42ab-b914-e4a1ed654a4d",
   "metadata": {},
   "outputs": [
    {
     "name": "stderr",
     "output_type": "stream",
     "text": [
      "C:\\Users\\wma22\\anaconda3\\envs\\gender4\\lib\\site-packages\\tqdm\\auto.py:22: TqdmWarning: IProgress not found. Please update jupyter and ipywidgets. See https://ipywidgets.readthedocs.io/en/stable/user_install.html\n",
      "  from .autonotebook import tqdm as notebook_tqdm\n"
     ]
    }
   ],
   "source": [
    "import spacy\n",
    "import glob"
   ]
  },
  {
   "cell_type": "code",
   "execution_count": 2,
   "id": "24cdcfc3-5472-4a60-9982-b804410bb95c",
   "metadata": {},
   "outputs": [],
   "source": [
    "def create_kmer(dna, k):\n",
    "    kmers = []\n",
    "    end = len(dna)-k+1\n",
    "    for i, c in enumerate(dna):\n",
    "        if i < end:\n",
    "            kmers.append(f\"{dna[i:i+k]}\")\n",
    "    return kmers"
   ]
  },
  {
   "cell_type": "code",
   "execution_count": 3,
   "id": "d554ad6e-23c8-4fe9-acb7-e213c0105c1b",
   "metadata": {},
   "outputs": [],
   "source": [
    "nlp = spacy.load(\"dna\")\n",
    "nlp.max_length = 1000000000000"
   ]
  },
  {
   "cell_type": "code",
   "execution_count": 36,
   "id": "bd6e0e29-a90e-4e1d-9030-a1ab223a627b",
   "metadata": {},
   "outputs": [
    {
     "data": {
      "text/plain": [
       "['euk_data\\\\Acropora_hyacinthus_unclassified_reads_illumina_top_1.txt',\n",
       " 'euk_data\\\\Acropora_millepora_unclassified_reads_illumina_top_1.txt',\n",
       " 'euk_data\\\\Conus_ventricosus_unclassified_reads_illumina_top_1.txt']"
      ]
     },
     "execution_count": 36,
     "metadata": {},
     "output_type": "execute_result"
    }
   ],
   "source": [
    "files = glob.glob(\"euk_data/*.txt\")\n",
    "files = [file for file in files if \"illum\" in file]\n",
    "files"
   ]
  },
  {
   "cell_type": "code",
   "execution_count": 37,
   "id": "f1820fa9-573b-4c9c-9092-cf3c334f8211",
   "metadata": {},
   "outputs": [
    {
     "name": "stdout",
     "output_type": "stream",
     "text": [
      "399991\n",
      "399991\n",
      "399991\n"
     ]
    }
   ],
   "source": [
    "dna_sequences = []\n",
    "for file in files:\n",
    "    with open(file, \"r\") as f:\n",
    "        data = f.read().splitlines()\n",
    "    sequences = [dna for dna in data if dna[0] != \">\"]\n",
    "    sequence = \"\".join(sequences)\n",
    "    kmers = create_kmer(sequence[:100_000], 3)\n",
    "    kmers = \" \".join(kmers)\n",
    "    print(len(kmers))\n",
    "    dna_sequences.append(kmers)"
   ]
  },
  {
   "cell_type": "code",
   "execution_count": 38,
   "id": "b48c4361-8a9b-4615-9ac8-4299609fe5b2",
   "metadata": {},
   "outputs": [
    {
     "data": {
      "text/plain": [
       "3"
      ]
     },
     "execution_count": 38,
     "metadata": {},
     "output_type": "execute_result"
    }
   ],
   "source": [
    "len(dna_sequences)"
   ]
  },
  {
   "cell_type": "code",
   "execution_count": 40,
   "id": "89b5b948-ecd5-46eb-882c-b5a0288268d7",
   "metadata": {},
   "outputs": [],
   "source": [
    "doc1 = nlp(dna_sequences[0])\n",
    "doc2 = nlp(dna_sequences[1])\n",
    "doc3 = nlp(dna_sequences[2])"
   ]
  },
  {
   "cell_type": "code",
   "execution_count": 41,
   "id": "e825407e-d503-4e90-9a2f-be6e91f1d52a",
   "metadata": {},
   "outputs": [
    {
     "name": "stdout",
     "output_type": "stream",
     "text": [
      "0.968365311849817\n"
     ]
    }
   ],
   "source": [
    "print(doc1.similarity(doc2))"
   ]
  },
  {
   "cell_type": "code",
   "execution_count": 42,
   "id": "3a7171f5-6327-4088-a6cb-4862641783a2",
   "metadata": {},
   "outputs": [
    {
     "name": "stdout",
     "output_type": "stream",
     "text": [
      "-0.3297027319946942\n"
     ]
    }
   ],
   "source": [
    "print(doc1.similarity(doc3))"
   ]
  },
  {
   "cell_type": "code",
   "execution_count": 9,
   "id": "d07a085d-1a9a-4746-b078-b5ae17bac048",
   "metadata": {},
   "outputs": [],
   "source": [
    "v1 = doc1.vector"
   ]
  },
  {
   "cell_type": "code",
   "execution_count": 10,
   "id": "9d9c1201-b3cc-497a-a577-4cb4e93acfcc",
   "metadata": {},
   "outputs": [],
   "source": [
    "v2 = doc2.vector"
   ]
  },
  {
   "cell_type": "code",
   "execution_count": 13,
   "id": "9132129a-49ed-4f0b-a169-0aaa47977696",
   "metadata": {},
   "outputs": [
    {
     "name": "stdout",
     "output_type": "stream",
     "text": [
      "Cosine Similarity: 0.856632\n"
     ]
    }
   ],
   "source": [
    "import numpy as np\n",
    "from numpy.linalg import norm\n",
    "\n",
    "# compute cosine similarity\n",
    "cosine = np.dot(v1,v2)/(norm(v1)*norm(v2))\n",
    "print(\"Cosine Similarity:\", cosine)"
   ]
  },
  {
   "cell_type": "code",
   "execution_count": null,
   "id": "d7812855-b04e-4336-9a17-8c02fe1b2929",
   "metadata": {},
   "outputs": [],
   "source": []
  }
 ],
 "metadata": {
  "kernelspec": {
   "display_name": "Python 3 (ipykernel)",
   "language": "python",
   "name": "python3"
  },
  "language_info": {
   "codemirror_mode": {
    "name": "ipython",
    "version": 3
   },
   "file_extension": ".py",
   "mimetype": "text/x-python",
   "name": "python",
   "nbconvert_exporter": "python",
   "pygments_lexer": "ipython3",
   "version": "3.9.16"
  }
 },
 "nbformat": 4,
 "nbformat_minor": 5
}
