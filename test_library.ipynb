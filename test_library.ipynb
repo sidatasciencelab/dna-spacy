{
 "cells": [
  {
   "cell_type": "code",
   "execution_count": 31,
   "id": "2b20ee88-8db9-4c8a-81e3-650c0abf931d",
   "metadata": {},
   "outputs": [],
   "source": [
    "from dna_spacy import dna_spacy as ds"
   ]
  },
  {
   "cell_type": "code",
   "execution_count": 33,
   "id": "60b76c13-b2fd-4f3a-98a0-905710929a0e",
   "metadata": {},
   "outputs": [],
   "source": [
    "nlp = ds.DNA(local_model=\"temp_output/model-best/\")"
   ]
  },
  {
   "cell_type": "code",
   "execution_count": 58,
   "id": "5e7a84f9",
   "metadata": {},
   "outputs": [],
   "source": [
    "animal_sequence = \"GGCAACCCATGGACATCCGCAACTCCTTTTAAAATAATTGGAAAATGCGGATGGAGTTATTATAATAATCAAACATTAACATACTGATTTGAATGAACACATGCCAATGTCACTGAATTGCAAGATATTGAGATTTCTGTACAAAGGAGGG\"\n",
    "\n",
    "bacteria_sequence = \"TTCGGGGTGGCCCTGCAGGCGACGGGCGCGCCTGCGGTCCTCCGTGAACCCGGTGCGGTGACGATGCGCGTGCACGACGTCGACCTGCGGGTCTCGGCCGGGGCGTTCTTCCAGGCCGGCCCGGCCGCGGCTGCGGCGCTGGTCGACCTC\""
   ]
  },
  {
   "cell_type": "code",
   "execution_count": 70,
   "id": "a4b36432",
   "metadata": {},
   "outputs": [
    {
     "data": {
      "text/plain": [
       "GGCAACC GCAACCC CAACCCA AACCCAT ACCCATG CCCATGG CCATGGA CATGGAC ATGGACA TGGACAT GGACATC GACATCC ACATCCG CATCCGC ATCCGCA TCCGCAA CCGCAAC CGCAACT GCAACTC CAACTCC AACTCCT ACTCCTT CTCCTTT TCCTTTT CCTTTTA CTTTTAA TTTTAAA TTTAAAA TTAAAAT TAAAATA AAAATAA AAATAAT AATAATT ATAATTG TAATTGG AATTGGA ATTGGAA TTGGAAA TGGAAAA GGAAAAT GAAAATG AAAATGC AAATGCG AATGCGG ATGCGGA TGCGGAT GCGGATG CGGATGG GGATGGA GATGGAG ATGGAGT TGGAGTT GGAGTTA GAGTTAT AGTTATT GTTATTA TTATTAT TATTATA ATTATAA TTATAAT TATAATA ATAATAA TAATAAT AATAATC ATAATCA TAATCAA AATCAAA ATCAAAC TCAAACA CAAACAT AAACATT AACATTA ACATTAA CATTAAC ATTAACA TTAACAT TAACATA AACATAC ACATACT CATACTG ATACTGA TACTGAT ACTGATT CTGATTT TGATTTG GATTTGA ATTTGAA TTTGAAT TTGAATG TGAATGA GAATGAA AATGAAC ATGAACA TGAACAC GAACACA AACACAT ACACATG CACATGC ACATGCC CATGCCA ATGCCAA TGCCAAT GCCAATG CCAATGT CAATGTC AATGTCA ATGTCAC TGTCACT GTCACTG TCACTGA CACTGAA ACTGAAT CTGAATT TGAATTG GAATTGC AATTGCA ATTGCAA TTGCAAG TGCAAGA GCAAGAT CAAGATA AAGATAT AGATATT GATATTG ATATTGA TATTGAG ATTGAGA TTGAGAT TGAGATT GAGATTT AGATTTC GATTTCT ATTTCTG TTTCTGT TTCTGTA TCTGTAC CTGTACA TGTACAA GTACAAA TACAAAG ACAAAGG CAAAGGA AAAGGAG AAGGAGG AGGAGGG "
      ]
     },
     "execution_count": 70,
     "metadata": {},
     "output_type": "execute_result"
    }
   ],
   "source": [
    "doc = nlp(animal_sequence)\n",
    "doc"
   ]
  },
  {
   "cell_type": "code",
   "execution_count": 86,
   "id": "95fa96e4",
   "metadata": {},
   "outputs": [
    {
     "data": {
      "text/plain": [
       "[{'BACTERIA': 0.4398268461227417, 'ANIMAL': 0.5601732134819031},\n",
       " {'BACTERIA': 0.3175923526287079, 'ANIMAL': 0.6824076771736145},\n",
       " {'BACTERIA': 0.0938534140586853, 'ANIMAL': 0.9061466455459595},\n",
       " {'BACTERIA': 0.13964523375034332, 'ANIMAL': 0.8603547811508179},\n",
       " {'BACTERIA': 0.4100084900856018, 'ANIMAL': 0.5899915099143982},\n",
       " {'BACTERIA': 0.09734015166759491, 'ANIMAL': 0.9026597738265991},\n",
       " {'BACTERIA': 0.07050848752260208, 'ANIMAL': 0.9294915199279785},\n",
       " {'BACTERIA': 0.0580509752035141, 'ANIMAL': 0.9419490098953247},\n",
       " {'BACTERIA': 0.08977039158344269, 'ANIMAL': 0.9102296233177185},\n",
       " {'BACTERIA': 0.2794033885002136, 'ANIMAL': 0.7205966114997864},\n",
       " {'BACTERIA': 0.2603885531425476, 'ANIMAL': 0.7396114468574524},\n",
       " {'BACTERIA': 0.2725790739059448, 'ANIMAL': 0.7274209260940552},\n",
       " {'BACTERIA': 0.05922086536884308, 'ANIMAL': 0.9407791495323181},\n",
       " {'BACTERIA': 0.07332658767700195, 'ANIMAL': 0.926673412322998},\n",
       " {'BACTERIA': 0.06018973886966705, 'ANIMAL': 0.9398102164268494}]"
      ]
     },
     "execution_count": 86,
     "metadata": {},
     "output_type": "execute_result"
    }
   ],
   "source": [
    "doc._.window_cats"
   ]
  },
  {
   "cell_type": "code",
   "execution_count": 84,
   "id": "7dde0c43",
   "metadata": {},
   "outputs": [],
   "source": [
    "# doc.to_disk(\"temp\")"
   ]
  },
  {
   "cell_type": "code",
   "execution_count": null,
   "id": "39a2d0e1",
   "metadata": {},
   "outputs": [],
   "source": []
  },
  {
   "cell_type": "markdown",
   "id": "15fa7a47",
   "metadata": {},
   "source": [
    "# Note\n",
    "\n",
    "What else can the vectors tell us about the relationship between groups?\n",
    "Do those vector relationships tell us anything about philology? (look up philology)\n",
    "Generate a second model --- closely related species\n",
    "    - See if we can replicate other methods with this approach\n",
    "    - See if it offers something new\n",
    "    - Low dim rep. of sequence data\n",
    "Windows that have overlap between the two classes"
   ]
  }
 ],
 "metadata": {
  "kernelspec": {
   "display_name": "Python 3 (ipykernel)",
   "language": "python",
   "name": "python3"
  },
  "language_info": {
   "codemirror_mode": {
    "name": "ipython",
    "version": 3
   },
   "file_extension": ".py",
   "mimetype": "text/x-python",
   "name": "python",
   "nbconvert_exporter": "python",
   "pygments_lexer": "ipython3",
   "version": "3.10.12"
  }
 },
 "nbformat": 4,
 "nbformat_minor": 5
}
