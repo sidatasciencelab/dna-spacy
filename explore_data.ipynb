{
 "cells": [
  {
   "cell_type": "code",
   "execution_count": 1,
   "id": "e60aaef5-fb19-45f1-8a8b-f33f54dfe275",
   "metadata": {},
   "outputs": [
    {
     "name": "stderr",
     "output_type": "stream",
     "text": [
      "C:\\Users\\wma22\\anaconda3\\envs\\gender4\\lib\\site-packages\\tqdm\\auto.py:22: TqdmWarning: IProgress not found. Please update jupyter and ipywidgets. See https://ipywidgets.readthedocs.io/en/stable/user_install.html\n",
      "  from .autonotebook import tqdm as notebook_tqdm\n"
     ]
    }
   ],
   "source": [
    "import spacy\n",
    "import floret\n",
    "import more_itertools\n",
    "import glob"
   ]
  },
  {
   "cell_type": "code",
   "execution_count": 2,
   "id": "148ca1ab-506d-4da0-a1c9-f026bdcd7f7b",
   "metadata": {},
   "outputs": [
    {
     "data": {
      "text/plain": [
       "4"
      ]
     },
     "execution_count": 2,
     "metadata": {},
     "output_type": "execute_result"
    }
   ],
   "source": [
    "files = glob.glob(\"euk_data/*.txt\")\n",
    "len(files)"
   ]
  },
  {
   "cell_type": "code",
   "execution_count": 26,
   "id": "33d18864-ceaa-498b-8836-ee5204e69a83",
   "metadata": {},
   "outputs": [
    {
     "data": {
      "text/plain": [
       "['euk_data\\\\Acropora_millepora_unclassified_reads_illumina_top_1.txt',\n",
       " 'euk_data\\\\Acropora_millepora_unclassified_reads_pacbio_top.txt',\n",
       " 'euk_data\\\\Aurelia_aurita_unclassified_reads_pacbio_top.txt',\n",
       " 'euk_data\\\\Conus_ventricosus_unclassified_reads_illumina_top_1.txt']"
      ]
     },
     "execution_count": 26,
     "metadata": {},
     "output_type": "execute_result"
    }
   ],
   "source": [
    "files"
   ]
  },
  {
   "cell_type": "code",
   "execution_count": 27,
   "id": "c7d9e663-da43-4347-a915-34cc25d36c1e",
   "metadata": {},
   "outputs": [
    {
     "data": {
      "text/plain": [
       "6000000"
      ]
     },
     "execution_count": 27,
     "metadata": {},
     "output_type": "execute_result"
    }
   ],
   "source": [
    "parts = []\n",
    "for file in files:\n",
    "    if \"illumina\" in file:\n",
    "        with open(file, \"r\") as f:\n",
    "            data = f.read()\n",
    "        parts = parts+data.splitlines()\n",
    "len(parts)"
   ]
  },
  {
   "cell_type": "code",
   "execution_count": 28,
   "id": "a99cfbed-5aaf-42a3-948f-eb288656b2ac",
   "metadata": {},
   "outputs": [
    {
     "data": {
      "text/plain": [
       "3679790"
      ]
     },
     "execution_count": 28,
     "metadata": {},
     "output_type": "execute_result"
    }
   ],
   "source": [
    "dna_samples = [dna for dna in parts if dna[0] != \">\"]\n",
    "lengths = []\n",
    "for sample in dna_samples:\n",
    "    lengths.append(len(sample))\n",
    "len(dna_samples)"
   ]
  },
  {
   "cell_type": "code",
   "execution_count": 29,
   "id": "9f04a3db-dcb7-41ab-ac43-3c37999eb3d6",
   "metadata": {},
   "outputs": [
    {
     "data": {
      "text/plain": [
       "101"
      ]
     },
     "execution_count": 29,
     "metadata": {},
     "output_type": "execute_result"
    }
   ],
   "source": [
    "lengths = list(set(lengths))\n",
    "lengths.sort()\n",
    "len(lengths)"
   ]
  },
  {
   "cell_type": "code",
   "execution_count": 30,
   "id": "02580866-0480-4dab-a600-b240625f6736",
   "metadata": {},
   "outputs": [
    {
     "data": {
      "text/plain": [
       "101"
      ]
     },
     "execution_count": 30,
     "metadata": {},
     "output_type": "execute_result"
    }
   ],
   "source": [
    "lengths[-1]"
   ]
  },
  {
   "cell_type": "code",
   "execution_count": 32,
   "id": "cb3dc28b-ce95-4409-bbb0-a1a307c00cbf",
   "metadata": {},
   "outputs": [
    {
     "data": {
      "text/plain": [
       "3679790"
      ]
     },
     "execution_count": 32,
     "metadata": {},
     "output_type": "execute_result"
    }
   ],
   "source": [
    "def create_kmer(dna, k):\n",
    "    kmers = []\n",
    "    end = len(dna)-k+1\n",
    "    for i, c in enumerate(dna):\n",
    "        if i < end:\n",
    "            kmers.append(f\"{dna[i:i+k]}\")\n",
    "    return kmers\n",
    "kmers = [create_kmer(dna, 3) for dna in dna_samples]\n",
    "len(kmers)"
   ]
  },
  {
   "cell_type": "code",
   "execution_count": 33,
   "id": "57f475d5-dbb6-4fe0-b1db-eed6cec3382a",
   "metadata": {},
   "outputs": [],
   "source": [
    "text = [\" \".join(kmer) for kmer in kmers]"
   ]
  },
  {
   "cell_type": "code",
   "execution_count": 34,
   "id": "de10a50f-44b9-4bd2-93f9-80bf2a936a6d",
   "metadata": {},
   "outputs": [],
   "source": [
    "with open(\"data/dna/test.txt\", \"w\", encoding=\"utf-8\") as f:\n",
    "    f.write(\"\\n\".join(text))"
   ]
  },
  {
   "cell_type": "code",
   "execution_count": 35,
   "id": "1ec6e9c5-146d-49c2-be00-e24442b964de",
   "metadata": {},
   "outputs": [],
   "source": [
    "model = floret.train_unsupervised(\n",
    "    \"data/dna/test.txt\",\n",
    "    model=\"cbow\",\n",
    "    mode=\"floret\",\n",
    "    hashCount=2,\n",
    "    bucket=100000,\n",
    "    minn=2,\n",
    "    maxn=4,\n",
    ")"
   ]
  },
  {
   "cell_type": "code",
   "execution_count": 36,
   "id": "bea32747-10f8-49e2-9eba-c234e8d761b8",
   "metadata": {},
   "outputs": [
    {
     "data": {
      "text/plain": [
       "[(0.7077134251594543, 'GCG'),\n",
       " (0.4824638366699219, 'CGA'),\n",
       " (0.47026094794273376, 'GAC'),\n",
       " (0.42510664463043213, 'CGG'),\n",
       " (0.4234273135662079, 'ACA'),\n",
       " (0.4070490002632141, 'TCG'),\n",
       " (0.40543290972709656, 'GCA'),\n",
       " (0.39913803339004517, 'CCG'),\n",
       " (0.35598939657211304, 'GGC'),\n",
       " (0.339338093996048, 'AGC')]"
      ]
     },
     "execution_count": 36,
     "metadata": {},
     "output_type": "execute_result"
    }
   ],
   "source": [
    "model.get_nearest_neighbors(\"ACG\")"
   ]
  },
  {
   "cell_type": "code",
   "execution_count": 37,
   "id": "5107796b-cc18-4157-b74f-ac20b15c0109",
   "metadata": {},
   "outputs": [],
   "source": [
    "model.save_floret_vectors(f\"dna.floret\")"
   ]
  },
  {
   "cell_type": "code",
   "execution_count": 38,
   "id": "af7c73e9-5b33-46b5-af48-152efdbd1bc0",
   "metadata": {},
   "outputs": [
    {
     "name": "stdout",
     "output_type": "stream",
     "text": [
      "[i] Creating blank nlp object for language 'en'\n",
      "[+] Successfully converted 100000 vectors\n",
      "[+] Saved nlp object with vectors to output directory. You can now use the path\n",
      "to it in your config as the 'vectors' setting in [initialize].\n",
      "C:\\Users\\wma22\\OneDrive\\Documents\\GitHub\\dna-spacy\\dna\n"
     ]
    },
    {
     "name": "stderr",
     "output_type": "stream",
     "text": [
      "[2023-01-26 20:30:37,889] [INFO] Reading vectors from dna.floret\n",
      "\n",
      "0it [00:00, ?it/s]\n",
      "4496it [00:00, 44633.03it/s]\n",
      "9340it [00:00, 46665.86it/s]\n",
      "14155it [00:00, 47184.07it/s]\n",
      "18909it [00:00, 47188.49it/s]\n",
      "23628it [00:00, 47065.60it/s]\n",
      "28335it [00:00, 46474.13it/s]\n",
      "33001it [00:00, 46429.94it/s]\n",
      "37800it [00:00, 46810.38it/s]\n",
      "42482it [00:00, 46266.94it/s]\n",
      "47111it [00:01, 45346.94it/s]\n",
      "51650it [00:01, 43827.19it/s]\n",
      "56236it [00:01, 44321.87it/s]\n",
      "60960it [00:01, 45083.20it/s]\n",
      "65762it [00:01, 45852.15it/s]\n",
      "70533it [00:01, 46305.81it/s]\n",
      "75325it [00:01, 46684.01it/s]\n",
      "80078it [00:01, 46828.63it/s]\n",
      "84907it [00:01, 47161.75it/s]\n",
      "89708it [00:01, 47312.38it/s]\n",
      "94455it [00:02, 47260.09it/s]\n",
      "99183it [00:02, 45936.32it/s]\n",
      "100000it [00:02, 46118.54it/s]\n",
      "[2023-01-26 20:30:40,065] [INFO] Loaded vectors from dna.floret\n"
     ]
    }
   ],
   "source": [
    "!python -m spacy init vectors en dna.floret dna --mode floret"
   ]
  },
  {
   "cell_type": "code",
   "execution_count": 39,
   "id": "8b7a01a4-1c18-497f-8dfc-296ac3afc98e",
   "metadata": {},
   "outputs": [],
   "source": [
    "nlp = spacy.load(\"dna\")"
   ]
  },
  {
   "cell_type": "code",
   "execution_count": 40,
   "id": "e82e6b7a-64cb-40f5-be34-b678dc82385e",
   "metadata": {},
   "outputs": [
    {
     "data": {
      "text/plain": [
       "'TAT ATG TGT GTC TCA CAG AGT GTC TCT CTT TTC TCT CTG TGT GTC TCG CGA GAA AAC ACA CAA AAG AGA GAA AAA AAC ACA CAC ACC CCT CTG TGG GGT GTC TCG CGA'"
      ]
     },
     "execution_count": 40,
     "metadata": {},
     "output_type": "execute_result"
    }
   ],
   "source": [
    "text[100]"
   ]
  },
  {
   "cell_type": "code",
   "execution_count": 41,
   "id": "e5a09b08-3d5a-485a-9290-8fa7b23a8293",
   "metadata": {},
   "outputs": [
    {
     "data": {
      "text/plain": [
       "array([-0.10669075,  0.03422643, -0.217521  , -0.00553851, -0.03192304,\n",
       "        0.00903709,  0.14453909, -0.07844248,  0.09435757,  0.07674704,\n",
       "        0.19162507,  0.07498356,  0.48662388,  0.08764622, -0.01794419,\n",
       "       -0.01768433,  0.0544269 ,  0.09571764, -0.22966401, -0.1569899 ,\n",
       "       -0.01242326, -0.3275781 , -0.12189689, -0.00231595, -0.20053759,\n",
       "       -0.15646413, -0.10512868, -0.25012103,  0.01763087, -0.01026774,\n",
       "       -0.04373965, -0.406593  , -0.21207842,  0.10584654,  0.15437946,\n",
       "       -0.12949775, -0.14768505, -0.08978966, -0.14477102,  0.10527462,\n",
       "       -0.07602212,  0.11838529, -0.14083941,  0.18513161,  0.07500212,\n",
       "        0.04502864, -0.02104128,  0.15704128,  0.14762227,  0.1312362 ,\n",
       "       -0.09392218, -0.25147855, -0.09225856,  0.22476405,  0.17672923,\n",
       "       -0.07478819, -0.00717883,  0.06669654, -0.27066502, -0.01748163,\n",
       "        0.11110567, -0.21152176, -0.05286286,  0.07872289,  0.41071954,\n",
       "        0.29264286,  0.16258956, -0.33279118,  0.01269514,  0.26482493,\n",
       "        0.17560765, -0.07589474,  0.00142159, -0.05285902,  0.07787648,\n",
       "       -0.11619357, -0.23699445, -0.0414993 ,  0.04801112,  0.5049648 ,\n",
       "       -0.11665612, -0.27251247,  0.11864379,  0.17880024, -0.31168306,\n",
       "       -0.2316044 ,  0.05281213, -0.09999909, -0.29012665,  0.19301014,\n",
       "        0.00604616, -0.03069023,  0.16299564,  0.0476615 , -0.08266955,\n",
       "       -0.49347845, -0.15968652, -0.18183155,  0.10526244, -0.2403278 ],\n",
       "      dtype=float32)"
      ]
     },
     "execution_count": 41,
     "metadata": {},
     "output_type": "execute_result"
    }
   ],
   "source": [
    "test = text[100]\n",
    "doc = nlp(test)\n",
    "doc.vector"
   ]
  },
  {
   "cell_type": "code",
   "execution_count": null,
   "id": "b6cc8873-64ca-443a-8e08-7955955067fc",
   "metadata": {},
   "outputs": [],
   "source": []
  }
 ],
 "metadata": {
  "kernelspec": {
   "display_name": "Python 3 (ipykernel)",
   "language": "python",
   "name": "python3"
  },
  "language_info": {
   "codemirror_mode": {
    "name": "ipython",
    "version": 3
   },
   "file_extension": ".py",
   "mimetype": "text/x-python",
   "name": "python",
   "nbconvert_exporter": "python",
   "pygments_lexer": "ipython3",
   "version": "3.9.16"
  }
 },
 "nbformat": 4,
 "nbformat_minor": 5
}
